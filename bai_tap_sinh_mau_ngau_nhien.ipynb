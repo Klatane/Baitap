{
  "nbformat": 4,
  "nbformat_minor": 0,
  "metadata": {
    "kernelspec": {
      "display_name": "Python 3",
      "language": "python",
      "name": "python3"
    },
    "language_info": {
      "codemirror_mode": {
        "name": "ipython",
        "version": 3
      },
      "file_extension": ".py",
      "mimetype": "text/x-python",
      "name": "python",
      "nbconvert_exporter": "python",
      "pygments_lexer": "ipython3",
      "version": "3.7.3"
    },
    "colab": {
      "name": "bai-tap-sinh-mau-ngau-nhien.ipynb",
      "provenance": [],
      "include_colab_link": true
    }
  },
  "cells": [
    {
      "cell_type": "markdown",
      "metadata": {
        "id": "view-in-github",
        "colab_type": "text"
      },
      "source": [
        "<a href=\"https://colab.research.google.com/github/Klatane/Baitap/blob/Pythoncoban/bai_tap_sinh_mau_ngau_nhien.ipynb\" target=\"_parent\"><img src=\"https://colab.research.google.com/assets/colab-badge.svg\" alt=\"Open In Colab\"/></a>"
      ]
    },
    {
      "cell_type": "markdown",
      "metadata": {
        "id": "ErAkBF9MVFvS"
      },
      "source": [
        "Sử dụng thư viện Numpy\n",
        "\n",
        "1. Sinh mẫu ngẫu nhiên bằng hàm arange trong khoảng [-15, 27] với khoảng cách là 0.7 và in kết quả ra màn hình"
      ]
    },
    {
      "cell_type": "code",
      "metadata": {
        "id": "PmJGCOSHVFvY",
        "outputId": "d0a75151-f202-4deb-b076-01c3ab52c037",
        "colab": {
          "base_uri": "https://localhost:8080/"
        }
      },
      "source": [
        "import numpy as np\n",
        "\n",
        "sample1 = np.arange(-15,27,0.7)\n",
        "sample1"
      ],
      "execution_count": 3,
      "outputs": [
        {
          "output_type": "execute_result",
          "data": {
            "text/plain": [
              "array([-15. , -14.3, -13.6, -12.9, -12.2, -11.5, -10.8, -10.1,  -9.4,\n",
              "        -8.7,  -8. ,  -7.3,  -6.6,  -5.9,  -5.2,  -4.5,  -3.8,  -3.1,\n",
              "        -2.4,  -1.7,  -1. ,  -0.3,   0.4,   1.1,   1.8,   2.5,   3.2,\n",
              "         3.9,   4.6,   5.3,   6. ,   6.7,   7.4,   8.1,   8.8,   9.5,\n",
              "        10.2,  10.9,  11.6,  12.3,  13. ,  13.7,  14.4,  15.1,  15.8,\n",
              "        16.5,  17.2,  17.9,  18.6,  19.3,  20. ,  20.7,  21.4,  22.1,\n",
              "        22.8,  23.5,  24.2,  24.9,  25.6,  26.3,  27. ])"
            ]
          },
          "metadata": {
            "tags": []
          },
          "execution_count": 3
        }
      ]
    },
    {
      "cell_type": "markdown",
      "metadata": {
        "id": "H6PbtFucVFvZ"
      },
      "source": [
        "2. Sinh mẫu ngẫu nhiên theo phân phối chuẩn với mean = 2.7 std = 1.2 và size = 40\n",
        "In kết quả ra màn hình"
      ]
    },
    {
      "cell_type": "code",
      "metadata": {
        "id": "QsPhAW7TVFvZ",
        "outputId": "aa4bedaf-a2a6-4b03-d555-3f7194a5038e",
        "colab": {
          "base_uri": "https://localhost:8080/"
        }
      },
      "source": [
        "sample_2 = np.random.normal(loc = 2.7, scale = 1.2, size = 40)\n",
        "sample_2"
      ],
      "execution_count": 4,
      "outputs": [
        {
          "output_type": "execute_result",
          "data": {
            "text/plain": [
              "array([ 2.35457137,  2.07006572,  3.33700228,  3.85341201,  4.42948551,\n",
              "        3.02809971,  2.01916195,  2.26509632,  2.36438188,  3.98772984,\n",
              "        4.33154215,  2.84023311,  1.9385151 ,  1.17763666,  3.73276931,\n",
              "        4.27760924,  1.60670828,  2.35409026,  3.36374256,  1.50411223,\n",
              "        2.49942737,  1.63545444,  4.58302305,  2.90602512,  3.20853359,\n",
              "        4.1839149 ,  2.10515716,  1.7435072 ,  3.23666818, -0.82548686,\n",
              "        2.42815438,  1.77030711,  2.86788758,  2.6267881 ,  1.25636776,\n",
              "        5.3789556 ,  2.34004157,  3.80270361,  2.88273026,  2.92043179])"
            ]
          },
          "metadata": {
            "tags": []
          },
          "execution_count": 4
        }
      ]
    },
    {
      "cell_type": "markdown",
      "metadata": {
        "id": "QSbASH_GVFvZ"
      },
      "source": [
        "3. Sinh mẫu ngẫu nhiên từ vector ['Viet Nam', 'Britain', 'France', 'Russia', 'Singapore'] \n",
        "\n",
        "với kích thước là 17 theo phân phối chuẩn"
      ]
    },
    {
      "cell_type": "code",
      "metadata": {
        "id": "a6KAMQbTVFva",
        "outputId": "3871162b-cec9-45ea-9ba0-8f5e0e355d64",
        "colab": {
          "base_uri": "https://localhost:8080/"
        }
      },
      "source": [
        "sample_12 = np.random.choice(['Viet Nam', 'Britain', 'France', 'Russia', 'Singapore'], 17)\n",
        "print(sample_12)"
      ],
      "execution_count": 5,
      "outputs": [
        {
          "output_type": "stream",
          "text": [
            "['Russia' 'Britain' 'Russia' 'Viet Nam' 'Viet Nam' 'Singapore' 'France'\n",
            " 'France' 'Singapore' 'France' 'Viet Nam' 'Viet Nam' 'France' 'Britain'\n",
            " 'Russia' 'Singapore' 'Singapore']\n"
          ],
          "name": "stdout"
        }
      ]
    },
    {
      "cell_type": "markdown",
      "metadata": {
        "id": "kMDIKN77VFvb"
      },
      "source": [
        "4. Sinh mẫu ngẫu nhiên ở câu 3 nhưng không theo phân phối chuẩn mà theo 1 vector đặc tả giá trị xác suất do bạn chọn"
      ]
    },
    {
      "cell_type": "code",
      "metadata": {
        "id": "JsJi1c0iVFvc",
        "outputId": "165acc26-6312-4f2e-b604-7ca07fc5ef3c",
        "colab": {
          "base_uri": "https://localhost:8080/"
        }
      },
      "source": [
        "sample_13 = np.random.choice(['Viet Nam', 'Britain', 'France', 'Russia', 'Singapore'], 5, p = [0.3, 0.1, 0.3, 0.2, 0.1])\n",
        "print(sample_13)"
      ],
      "execution_count": 8,
      "outputs": [
        {
          "output_type": "stream",
          "text": [
            "['Russia' 'Russia' 'Russia' 'France' 'France']\n"
          ],
          "name": "stdout"
        }
      ]
    },
    {
      "cell_type": "markdown",
      "metadata": {
        "id": "aMamPQ7dVFvc"
      },
      "source": [
        "Sử dụng thư việc scipy.stats để sinh mẫu ngẫu nhiên\n",
        "\n",
        "1. Sinh mẫu ngẫu nhiên theo phân phối chuẩn với mean = 12.7, std = 2.6 và size = 30. In kết quả ra màn hình"
      ]
    },
    {
      "cell_type": "code",
      "metadata": {
        "id": "3DXj8BIjVFvc",
        "outputId": "5c9de26d-3646-4273-a5f1-e97c2953681f",
        "colab": {
          "base_uri": "https://localhost:8080/"
        }
      },
      "source": [
        "from scipy import stats\n",
        "sample_14 = stats.norm.rvs(loc = 12.7, scale = 2.6, size = 30)\n",
        "print(sample_14[:10])"
      ],
      "execution_count": 9,
      "outputs": [
        {
          "output_type": "stream",
          "text": [
            "[10.45591145 15.06699816 14.73283032 12.49488838 13.46428823 10.91156433\n",
            " 12.87757979 12.76102689 11.87145036 20.09836142]\n"
          ],
          "name": "stdout"
        }
      ]
    },
    {
      "cell_type": "markdown",
      "metadata": {
        "id": "uEg-30XWVFvc"
      },
      "source": [
        "2. Hãy sinh một mẫu ngẫu nhiên theo phân phối Poisson"
      ]
    },
    {
      "cell_type": "code",
      "metadata": {
        "id": "veqYJ8pYVFvd",
        "outputId": "616e6682-2675-42e3-bff9-b87b3df08a5a",
        "colab": {
          "base_uri": "https://localhost:8080/"
        }
      },
      "source": [
        "sample_14 = stats.poisson.rvs(loc=30,\n",
        "                              mu=80,\n",
        "                              size=2002)\n",
        "print(sample_14[:40])"
      ],
      "execution_count": 13,
      "outputs": [
        {
          "output_type": "stream",
          "text": [
            "[102 101 113 113 113 122  98 108 105 104 118 112 106 119 120 114 110 112\n",
            " 110  94 118 109 101  99 122 120 110 106 117 113 125 121 110 119 140 100\n",
            " 105 107 109 105]\n"
          ],
          "name": "stdout"
        }
      ]
    },
    {
      "cell_type": "code",
      "metadata": {
        "id": "BlR0IVrfVFvd"
      },
      "source": [
        ""
      ],
      "execution_count": null,
      "outputs": []
    }
  ]
}