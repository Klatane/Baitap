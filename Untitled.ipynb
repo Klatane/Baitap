{
 "cells": [
  {
   "cell_type": "code",
   "execution_count": 1,
   "metadata": {},
   "outputs": [
    {
     "name": "stdout",
     "output_type": "stream",
     "text": [
      "   STT     Ho va ten\n",
      "0    1  Nguyen Van A\n",
      "1    2      Le Van B\n",
      "2    3     Ngo Thi C\n",
      "3    4     Lam Van D\n",
      "4    5  Nguyen Van A\n",
      "5    6      Le Van B\n",
      "6    7     Ngo Thi C\n",
      "7    8     Lam Van D\n",
      "8    9  Nguyen Van A\n",
      "9   10      Le Van B\n",
      "--------------------------------------------------\n",
      "    STT     Ho va ten\n",
      "25   26      Le Van B\n",
      "1     2      Le Van B\n",
      "26   27     Ngo Thi C\n",
      "29   30      Le Van B\n",
      "24   25  Nguyen Van A\n",
      "22   23     Ngo Thi C\n",
      "12   13     Ngo Thi C\n"
     ]
    }
   ],
   "source": [
    "import pandas as pd\n",
    "import csv\n",
    "import random\n",
    "file = pd.read_csv('DSSV.csv')\n",
    "print(file.head(10))\n",
    "print(\"-\"*50)\n",
    "#Chọn ngẫu nhiên 7 sv trong ds\n",
    "files = file.sample(n=7)\n",
    "#Lưu vào file csv mới tên DSSVmoi.csv\n",
    "files.to_csv(r'DSSV', index = None, header=True)\n",
    "print(files)"
   ]
  },
  {
   "cell_type": "code",
   "execution_count": null,
   "metadata": {},
   "outputs": [],
   "source": []
  }
 ],
 "metadata": {
  "kernelspec": {
   "display_name": "Python 3",
   "language": "python",
   "name": "python3"
  },
  "language_info": {
   "codemirror_mode": {
    "name": "ipython",
    "version": 3
   },
   "file_extension": ".py",
   "mimetype": "text/x-python",
   "name": "python",
   "nbconvert_exporter": "python",
   "pygments_lexer": "ipython3",
   "version": "3.8.3"
  }
 },
 "nbformat": 4,
 "nbformat_minor": 4
}
